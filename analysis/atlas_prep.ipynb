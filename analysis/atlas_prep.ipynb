{
 "cells": [
  {
   "cell_type": "markdown",
   "metadata": {},
   "source": [
    "Currently the atlas maps are not in the form we want, so we prep them here:\n",
    "\n",
    "1. V1 atlas, restricted to 4-10 degrees\n",
    "2. LGN atlas, combine L and R"
   ]
  },
  {
   "cell_type": "code",
   "execution_count": null,
   "metadata": {},
   "outputs": [],
   "source": [
    "# Import necessary libraries\n",
    "import statsmodels.api as sm\n",
    "from statsmodels.stats.anova import AnovaRM\n",
    "import pingouin as pg\n",
    "import os\n",
    "from joblib import dump, load\n",
    "import numpy as np\n",
    "import nibabel as nib\n",
    "import matplotlib.pyplot as plt\n",
    "from nilearn import image\n",
    "from nilearn.reporting import make_glm_report\n",
    "from nilearn.image import load_img, threshold_img\n",
    "from nilearn.glm.contrasts import compute_contrast\n",
    "from nilearn.input_data import NiftiMasker\n",
    "from nilearn.plotting import view_img\n",
    "from nilearn.glm.first_level import FirstLevelModel\n",
    "from nilearn.glm.second_level import SecondLevelModel\n",
    "from nilearn.maskers import NiftiMasker, NiftiLabelsMasker\n",
    "from nilearn.plotting import view_img_on_surf\n",
    "import pandas as pd\n",
    "from collections import defaultdict\n",
    "import json, joblib\n",
    "import pandas as pd\n",
    "from nilearn.image import mean_img\n",
    "from nilearn.glm.first_level import FirstLevelModel\n",
    "from nilearn.masking import apply_mask\n",
    "import seaborn as sns\n",
    "\n",
    "print('Done importing libraries')"
   ]
  },
  {
   "cell_type": "code",
   "execution_count": null,
   "metadata": {},
   "outputs": [],
   "source": [
    "# Set up\n",
    "\n",
    "# directories\n",
    "base_dir = '/scratch/groups/Projects/P1490'\n",
    "data_dir = 'Data' # directory of all participants' data\n",
    "t1_dir='freesurfer' # directory where recon-all T1 is\n"
   ]
  },
  {
   "cell_type": "code",
   "execution_count": null,
   "metadata": {},
   "outputs": [],
   "source": [
    "# The benson atlas gives us an area map and an eccentricity map.\n",
    "# We want one atlas for all ROIs, only in the eccentricity 4-10 degrees.\n",
    "\n",
    "ecc_map = nib.load(os.path.join(base_dir,t1_dir,'MNI/mri/tempBens/benson14_eccen.nii.gz'))\n",
    "ecc_data = ecc_map.get_fdata()\n",
    "\n",
    "ecc_data[(ecc_data <= 4) | (ecc_data >= 10)] = 0\n",
    "\n",
    "ecc_map_restricted = nib.Nifti1Image(ecc_data, ecc_map.affine, ecc_map.header)\n",
    "nib.save(ecc_map_restricted, os.path.join(base_dir,t1_dir,'MNI/mri/tempBens/benson14_eccen_4_10.nii.gz'))\n",
    "\n",
    "area_map = nib.load(os.path.join(base_dir,t1_dir,'MNI/mri/tempBens/benson14_varea.nii.gz'))\n",
    "varea_data = area_map.get_fdata()\n",
    "\n",
    "# mask is True wherever eccen equals 0\n",
    "mask = (ecc_data == 0)\n",
    "\n",
    "combined = varea_data.copy()\n",
    "combined[mask] = 0.0          \n",
    "combined = combined.astype(int)\n",
    "\n",
    "restricted_map = nib.Nifti1Image(combined, affine=area_map.affine, header=area_map.header)\n",
    "nib.save(restricted_map, os.path.join(base_dir,t1_dir,'MNI/mri/tempBens/benson14_eccen_4_10_varea.nii.gz'))\n"
   ]
  },
  {
   "cell_type": "code",
   "execution_count": null,
   "metadata": {},
   "outputs": [],
   "source": [
    "view=view_img(restricted_map, black_bg=True, threshold=0)\n",
    "view"
   ]
  },
  {
   "cell_type": "code",
   "execution_count": null,
   "metadata": {},
   "outputs": [],
   "source": [
    "# Similar to above, but we just want to look at V1, not all ROIs\n",
    "\n",
    "restricted_map = nib.load(os.path.join(base_dir,t1_dir,'MNI/mri/tempBens/benson14_eccen_4_10_varea.nii.gz'))\n",
    "restricted_data = restricted_map.get_fdata()\n",
    "\n",
    "# mask is True wherever eccen equals 0\n",
    "mask = (restricted_data != 1)\n",
    "\n",
    "v1_data = restricted_data.copy()\n",
    "v1_data[mask] = 0.0            # or use 0 if dtype is integer\n",
    "v1_data = np.around(v1_data)\n",
    "\n",
    "v1_img = nib.Nifti1Image(v1_data, affine=restricted_map.affine, header=restricted_map.header)\n",
    "nib.save(v1_img, os.path.join(base_dir,t1_dir,'MNI/mri/tempBens/benson14_eccen_4_10_v1.nii.gz'))\n",
    "\n",
    "view=view_img(v1_img, black_bg=True, symmetric_cmap=False)\n",
    "view"
   ]
  },
  {
   "cell_type": "code",
   "execution_count": null,
   "metadata": {},
   "outputs": [],
   "source": [
    "# Plot V1 ROI on surface\n",
    "\n",
    "from nilearn.plotting import view_img_on_surf\n",
    "from matplotlib.colors import LinearSegmentedColormap\n",
    "\n",
    "solid_color = LinearSegmentedColormap.from_list(\"solid_yellow\", [\"yellow\", \"yellow\"])\n",
    "\n",
    "view = view_img_on_surf(v1_img, threshold=0.01, surf_mesh='fsaverage7', \n",
    "                        symmetric_cmap=False, cmap=solid_color, colorbar=False,\n",
    "                        black_bg=True, bg_on_data=True,\n",
    "                        vol_to_surf_kwargs=dict(\n",
    "                        radius=2.0, # neighbourhood (mm)\n",
    "                        interpolation=\"nearest\", # 'linear' or 'nearest'\n",
    "                        kind=\"ball\", # 'auto', 'line', 'ball', or 'depth'\n",
    "                        n_samples=10 # number of samples to average\n",
    "                    )) # Change fsaverage5 to fsaverage if you want to use the higher-res fsaverage mesh\n",
    "\n",
    "view "
   ]
  },
  {
   "cell_type": "code",
   "execution_count": null,
   "metadata": {},
   "outputs": [],
   "source": [
    "# The LGN atlas has seperate L and R, so we just combine them into one map.\n",
    "\n",
    "lgn_left_map = nib.load(os.path.join(base_dir,data_dir,'LGN_atlas/left/9-LGN.nii.gz'))\n",
    "lgn_left_data = lgn_left_map.get_fdata()\n",
    "\n",
    "lgn_right_map = nib.load(os.path.join(base_dir,data_dir,'LGN_atlas/right/9-LGN.nii.gz'))\n",
    "lgn_right_data = lgn_right_map.get_fdata()\n",
    "\n",
    "lgn_combined_data = lgn_left_data + lgn_right_data\n",
    "combined_img = nib.Nifti1Image(lgn_combined_data, affine=lgn_left_map.affine, header=lgn_left_map.header)\n",
    "nib.save(combined_img, os.path.join(base_dir,data_dir,'LGN_atlas/9-LGN.nii.gz'))\n"
   ]
  }
 ],
 "metadata": {
  "kernelspec": {
   "display_name": "neuroenv",
   "language": "python",
   "name": "python3"
  },
  "language_info": {
   "codemirror_mode": {
    "name": "ipython",
    "version": 3
   },
   "file_extension": ".py",
   "mimetype": "text/x-python",
   "name": "python",
   "nbconvert_exporter": "python",
   "pygments_lexer": "ipython3",
   "version": "3.9.2"
  }
 },
 "nbformat": 4,
 "nbformat_minor": 2
}
